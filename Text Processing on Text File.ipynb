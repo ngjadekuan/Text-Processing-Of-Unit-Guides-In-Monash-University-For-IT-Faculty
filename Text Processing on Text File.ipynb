{
 "cells": [
  {
   "cell_type": "markdown",
   "metadata": {},
   "source": [
    "# Text Processing\n",
    "\n",
    "\n",
    "Date: 14th April 2019\n",
    "\n",
    "Environment: Python 2.7.11 and Jupyter notebook\n",
    "Libraries used: \n",
    "* re (for regular expression, included in Anaconda Python 2.7) \n",
    "* json ( to convert to json file)\n",
    "\n",
    "## 1. Introduction\n",
    "\n",
    "This analysis extract data from a text file and converts the required information into a xml file and json file. I've used regular expression to firstly extract the chunk of details for every unit. Re library was imported to extract required information about the unit code, unit title, pre-requisites, prohibitions, synopsis, requirements, outputs and chief examiners on the chunk of details for every unit extracted initially. \n",
    "Thereafter, an xml file is created manually through a while loop and json file is created by using the json library. \n",
    "\n"
   ]
  },
  {
   "cell_type": "markdown",
   "metadata": {},
   "source": [
    "## 2. Import libraries"
   ]
  },
  {
   "cell_type": "code",
   "execution_count": 830,
   "metadata": {},
   "outputs": [],
   "source": [
    "#importing re library to perform regular expression\n",
    "import re\n",
    "# importing json library to create json file\n",
    "import json"
   ]
  },
  {
   "cell_type": "markdown",
   "metadata": {},
   "source": [
    "## 3. Extracting data"
   ]
  },
  {
   "cell_type": "markdown",
   "metadata": {},
   "source": [
    "## Getting units into chunks"
   ]
  },
  {
   "cell_type": "code",
   "execution_count": 831,
   "metadata": {},
   "outputs": [],
   "source": [
    "# opening and reading file given as infile\n",
    "with open(\"Unit Guide.txt\",'r') as infile:\n",
    "    #using .read to read the file as a whole\n",
    "    file = infile.read()\n",
    "# using re.findall to iterate over the lines in the file and capture the groups with a positive lookbehind of\n",
    "#  ?<=\\<div class=\\\"content-inner__main\\\"\\>\\n and positive lookahead of ?=<!-- /.content-inner__main --></div>\n",
    "unit_list = re.findall(r'(?<=\\<div class=\\\"content-inner__main\\\"\\>\\n)((.*\\n)+?)(?=<!-- /.content-inner__main --></div>)',file)\n",
    "\n",
    "# the code above was producing a list of tuples which contained two strings. I needed the first index of it hence\n",
    "# ive put 0 to select the first tuple \n",
    "unit_sum = list(zip(*unit_list))[0]"
   ]
  },
  {
   "cell_type": "markdown",
   "metadata": {},
   "source": [
    "## 3.1 Extracting unit code"
   ]
  },
  {
   "cell_type": "code",
   "execution_count": 832,
   "metadata": {
    "scrolled": true
   },
   "outputs": [],
   "source": [
    "# empty list for pattern to be extended on \n",
    "units_final = []\n",
    "\n",
    "#there were 2 units which had 4 letters so I've made my code to capture capital letters within the range of 3 to 4\n",
    "#along with 4 numbers beside the letters. The unitcode is between  <span class=\\\"unitcode\\\"> and ends with </span>\n",
    "#hence, i've made both <span class=\\\"unitcode\\\"> and </span> a non capturing group to just capture the unitcodes.\n",
    "#i've used refindall to iterate through the lines of codes of file to look for the pattern.\n",
    "pattern = re.findall('(?:<span class=\\\"unitcode\\\">)([A-Z]{3,4}[0-9]{4})(?:</span>)',file)\n",
    "\n",
    "# used extend ot iterate over pattern and adding each element to the units_final list and extending the list.\n",
    "units_final.extend(pattern)"
   ]
  },
  {
   "cell_type": "markdown",
   "metadata": {},
   "source": [
    "## 3.2 Extracting unit title"
   ]
  },
  {
   "cell_type": "code",
   "execution_count": 833,
   "metadata": {},
   "outputs": [],
   "source": [
    "# empty list for title_pattern to be extended on \n",
    "unit_title = []\n",
    "\n",
    "# the unit title was in between the unitcode\\\".*</span> and <span class. Hence, to capture just the unit title, I've\n",
    "# placed unitcode\\\".*</span> and <span class in a non capturing group. i've used refindall to iterate through the lines of codes of file \n",
    "#to look for the pattern.\n",
    "title_pattern = re.findall(r'(?:\\\"unitcode\\\".*</span> -)(.*)(?:<span class)',file)\n",
    "\n",
    "# used extend ot iterate over pattern and adding each element to the unit_title list and extending the list.\n",
    "unit_title.extend(title_pattern)"
   ]
  },
  {
   "cell_type": "markdown",
   "metadata": {},
   "source": [
    "## 3.3 Extracting Pre-requisites"
   ]
  },
  {
   "cell_type": "code",
   "execution_count": 834,
   "metadata": {},
   "outputs": [],
   "source": [
    "# empty list for total_unit which contains prerequisities or correquisities to be appended on \n",
    "prereq2 = []\n",
    "# to iterate through every units in units sum \n",
    "for units in unit_sum:\n",
    "    # I've done a condition for re.findall to search either prerequisites or correquisites from the units in unit_sum\n",
    "    # The content for prerequisites is captured with the regex code Prerequisites<\\/p>\\n*.*<\\/p> as it starts\n",
    "    # with Prerequisites<\\/p>\\n and ends with <\\/p>, the content for co-requisites is captured with the regex\n",
    "    # Co-requisites<\\/p>\\n*.*<\\/p> and ends with <\\/p> \n",
    "    total_unit = re.findall('Prerequisites<\\/p>\\n*.*<\\/p>|Co-requisites<\\/p>\\n*.*<\\/p>',units[0:])\n",
    "    \n",
    "    # the total_unit which captures the pattern for prerequisites and co requisites is appended to prereq2\n",
    "    prereq2.append(total_unit)\n",
    "    \n",
    "# to iterate through every units within the range of the length of prereq2 \n",
    "for units in range(len(prereq2)):\n",
    "    # prereq2 produces an empty bracket when it is NA. Hence, I've set a condition to print NA when an empty bracket\n",
    "    # is present for the output\n",
    "    if prereq2[units] == []:\n",
    "        prereq2[units] = \"NA\"\n",
    "\n",
    "# empty list for units for pre-requisites and correquisites to be appended on \n",
    "final_prereq2 = []\n",
    "# to iterate through every requisities in prerequsites\n",
    "for requi in prereq2:\n",
    "    # used re.findall to find units in pre-requisites and correquisites which has 3 capital letters and 4 numbers\n",
    "    # in requi.Requi is converted to a string in order for re.findall to iterate through it \n",
    "    overall_u = re.findall('([A-Z]{3}[0-9]{4})',str(requi))\n",
    "    # set was used to remove duplication units for overall units. the set of units is then put into a list \n",
    "    le = list(set(overall_u))\n",
    "    # the list of set of units for prerequisites and correquisites is appended to final_prereq2\n",
    "    final_prereq2.append(le)\n",
    "\n",
    "# to iterate through the whole range of length of final_prereq2\n",
    "for requi in range(len(final_prereq2)):\n",
    "    # final prereq2 produces an empty bracket when it is NA. Hence, I've set a condition to print NA when an empty \n",
    "    #bracket is present for the output \n",
    "    if final_prereq2[requi] == []:\n",
    "        final_prereq2[requi] = \"NA\""
   ]
  },
  {
   "cell_type": "markdown",
   "metadata": {},
   "source": [
    "## 3.4 Extracting prohibitions"
   ]
  },
  {
   "cell_type": "code",
   "execution_count": 835,
   "metadata": {
    "scrolled": true
   },
   "outputs": [],
   "source": [
    "# empty list for prohibition to be appended on \n",
    "prohibition1 = []\n",
    "\n",
    "# to iterate through every units in unit_sum\n",
    "for units in unit_sum:\n",
    "    # the information about prohibitions starts with Prohibitions<\\/p> and ends with <\\/p>. Hence, i've used re.findall\n",
    "    # to iterate through the lines of code to extract the following information\n",
    "    prohibition = re.findall('Prohibitions<\\/p>\\n*.*<\\/p>',units[0:])\n",
    "    # prohibition which captures the pattern for prohibition is appended to prohibition1\n",
    "    prohibition1.append(prohibition)\n",
    "\n",
    "# to iterate through every units within the length of prohibition1\n",
    "for units in range(len(prohibition1)):\n",
    "    # prohibition1 produces an empty bracket when it is NA. Hence, I've set a condition to print NA when an empty \n",
    "    #bracket is present for the output \n",
    "    if prohibition1[units] == []:\n",
    "        prohibition1[units] = \"NA\"\n",
    "\n",
    "# empty list for set prohibition to be appended on \n",
    "final_prohibition = []\n",
    "# to iterate through every prohibition in prohibition 1\n",
    "for prohibition in prohibition1:\n",
    "    # used re.findall to find units in prohibition which has 3 capital letters and 4 numbers\n",
    "    overall_prohibition = re.findall('([A-Z]{3}[0-9]{4})',prohibition[0])\n",
    "    # set was used to remove duplication units for overall units. the set of units is then put into a list \n",
    "    set_prohibition = list(set(overall_prohibition))\n",
    "    # the list of set of units for prerequisites and correquisites is appended to final_prohibition\n",
    "    final_prohibition.append(set_prohibition)\n",
    "\n",
    "# to iterate through prohibition within the range of length of final_prohibition \n",
    "for prohibition in range(len(final_prohibition)):\n",
    "    # final_prohibition produces an empty bracket when it is NA. Hence, I've set a condition to print NA when an empty \n",
    "    #bracket is present for the output\n",
    "    if final_prohibition[prohibition] == []:\n",
    "        final_prohibition[prohibition] = \"NA\"\n"
   ]
  },
  {
   "cell_type": "markdown",
   "metadata": {},
   "source": [
    "## 3.5 Extracting synopsis"
   ]
  },
  {
   "cell_type": "code",
   "execution_count": 836,
   "metadata": {},
   "outputs": [],
   "source": [
    "# empty list for synopsis to be appended on \n",
    "synopsis1 = []\n",
    "# to iterate through every units in unit_sum\n",
    "for units in unit_sum:\n",
    "   # the information about synopsis starts with Synopsis<\\/h2>\\n<div>\\n<p> and ends with <\\/p>. Hence, i've used re.findall\n",
    "   # to iterate through the lines of code to extract the following information. I've also used a non capturing group\n",
    "    # for Synopsis<\\/h2>\\n<div>\\n<p> and </p> to not capture the groups but capture the group in between the \n",
    "   # the non capturing group\n",
    "   synopsis = re.findall('(?:Synopsis<\\/h2>\\n<div>\\n<p>)(\\n*.*)(?:</p>)',units[0:])\n",
    "   # the synopsis pattern was appended to synopsis1\n",
    "   synopsis1.append(synopsis)\n",
    "\n",
    "# to iterate through every units within the range of length synopsis1\n",
    "for units in range(len(synopsis1)):\n",
    "    # synopsis1 produces an empty bracket when it is NA. Hence, I've set a condition to print NA when an empty \n",
    "    #bracket is present for the output\n",
    "    if synopsis1[units] == []:\n",
    "       synopsis1[units] = \"NA\"\n",
    "\n",
    "# to iterate through synopsis within the range of length synopsis1 \n",
    "for j in range(len(synopsis1)):\n",
    "    # using re.sub to substitute whatever that is in between brackets with empty space as there were unitlinks\n",
    "    # which were in between the brackets that needs to be removed\n",
    "    synopsis1[j] = re.sub('<.*?>',\"\",str(synopsis1[j]))\n",
    "    "
   ]
  },
  {
   "cell_type": "markdown",
   "metadata": {},
   "source": [
    "## 3.6 Extracting Outcomes"
   ]
  },
  {
   "cell_type": "code",
   "execution_count": 857,
   "metadata": {
    "scrolled": false
   },
   "outputs": [],
   "source": [
    "# empty list for output to be appended on \n",
    "output1 = []\n",
    "# to iterate through every unit in unit_sum \n",
    "for units in unit_sum:\n",
    "    # the information about outcomes starts with Outcomes</h2>\\n<div> and ends with \\\">Assessment. Hence, i've used\n",
    "    # re.findall to iterate through the lines of code to extract the following information. I've also used \n",
    "    # a non capturing group for Outcomes</h2>\\n<div> and \\\">Assessment to not capture the groups but capture the \n",
    "    # group in between the the non capturing group. The capturing groups have space and empty spaces between them\n",
    "    # hence i've placed a condition [\\s\\S]*? to capture them \n",
    "    output = re.findall('(?:Outcomes</h2>\\n<div>)([\\s\\S]*?)(?:\\\">Assessment)', units[0:])\n",
    "    # the output was appended to output1\n",
    "    output1.append(output)\n",
    "\n",
    "# to iterate through every units within the range of output \n",
    "for units in range(len(output1)):\n",
    "    # output1 produces an empty bracket when it is NA. Hence, I've set a condition to print NA when an empty \n",
    "    #bracket is present for the output\n",
    "    if output1[units] == []:\n",
    "        output1[units] = \"NA\"\n",
    "\n",
    "# empty list for outputs to be appended \n",
    "final_output = []\n",
    "# to iterate through output in output1 \n",
    "for output in output1:\n",
    "    # outcomes information is between <li> and <\\/li>. Hence, I've placed a capturing group between both on them \n",
    "    # including spaces and non spaces to capture and a condition of * and ? as spaces might be zero or more and \n",
    "    # it happens zero or more times. \n",
    "    outputs = re.findall(r'(?:<li>)([\\s\\S]*?)(?:<\\/li>)', output[0])\n",
    "    final_output.append(outputs)\n",
    "\n",
    "# to iterate through the output within the range of length final_output\n",
    "for output in range(len(final_output)):\n",
    "    # final_output produces an empty bracket when it is NA. Hence, I've set a condition to print NA when an empty \n",
    "    #bracket is present for the output\n",
    "    if final_output[output] == []:\n",
    "        final_output[output] = \"NA\""
   ]
  },
  {
   "cell_type": "markdown",
   "metadata": {},
   "source": [
    "## 3.7 Extracting requirements"
   ]
  },
  {
   "cell_type": "code",
   "execution_count": 874,
   "metadata": {},
   "outputs": [],
   "source": [
    "# empty list for requirement to be appended on \n",
    "requirement1 = []\n",
    "# iterate through units in unit_sum\n",
    "for units in unit_sum:\n",
    "    # Requirement information starts with Assessment</h2>\\n<div> and ends with </div>. I've use re.findall to \n",
    "    # iterate through every line to find the pattern in the file, re.DOTALL is used so that the the dot in\n",
    "    # the capturing group captures everything including new lines \n",
    "    requirement = re.findall(r'Assessment</h2>\\n<div>(.*?)</div>',units[0:],re.DOTALL)\n",
    "    # requirement is appended to the requirement 1 list\n",
    "    requirement1.append(requirement)\n",
    "\n",
    "# iterate through every units in range within the length of requirement\n",
    "for units in range(len(requirement1)):\n",
    "    #  requirement1 produces an empty bracket when it is NA. Hence, I've set a condition to print NA when an empty \n",
    "    #bracket is present for the output\n",
    "    if requirement1[units] == []:\n",
    "        requirement1[units] = \"NA\"\n",
    "   \n",
    "# empty list for overall_requirement to be appended on\n",
    "final_requirement = []\n",
    "# iterate through requirements in requirement1\n",
    "for requirements in requirement1:\n",
    "    # i've used re.findall to find the requirement between  <p> and </p>\n",
    "    overall_requirement = re.findall('(?:<p>)(.*)(?:</p>)',requirements[0])\n",
    "    # i've used re.sub to\n",
    "    overall_req2 = re.sub('<.*?>',\"\",str(overall_requirement)) \n",
    "    final_requirement.append(overall_requirement)\n",
    " \n",
    "for requirements in range(len(final_requirement)):\n",
    "    if final_requirement[requirements] == []:\n",
    "        final_requirement[requirements] = \"NA\"\n"
   ]
  },
  {
   "cell_type": "markdown",
   "metadata": {},
   "source": [
    "## 3.8 Extracting Chief Examiners"
   ]
  },
  {
   "cell_type": "code",
   "execution_count": 875,
   "metadata": {},
   "outputs": [],
   "source": [
    "# an empty list for list of examiners in examiner to be appended on  \n",
    "chief1 = []\n",
    "# to go through every units in unit_sum \n",
    "for units in unit_sum:\n",
    "    # the content for chief examiner starts from Chief examiner\\(s\\)</p>\\n<p> and ends with </p>. i've used\n",
    "    # non capturing group for Chief examiner\\(s\\)</p>\\n<p> and </p>. A capturing group was used to capture\n",
    "    # whats in between both of it \n",
    "    examiner = re.findall(r'(?:Chief examiner\\(s\\)</p>\\n<p>)(.*?)(?:</p>)',units[0:],re.DOTALL)\n",
    "    # examiner is appended to chief1 list\n",
    "    chief1.append(examiner)\n",
    "\n",
    "# iterate through every units in range within length chief1\n",
    "for units in range(len(chief1)):\n",
    "    # chief1 produces an empty bracket when it is NA. Hence, I've set a condition to print NA when an empty \n",
    "    #bracket is present for the output\n",
    "    if chief1[units] == []:\n",
    "        chief1[units] = \"TBA\"\n",
    "        \n",
    "# an empty list for list of overall_chief in examiner to be appended on  \n",
    "final_chief = []\n",
    "## iterate through every chief in range within length chief1\n",
    "for chief in chief1:\n",
    "    # chief examiners are obtained between > and </a> with capturing group\n",
    "    overall_chief = re.findall('(?<=>)(.*?)(?=</a>)',chief[0])\n",
    "    # appending overall_chief to final_chief\n",
    "    final_chief.append(overall_chief)\n",
    "\n",
    "# iterate through every chief in range length final chief\n",
    "for chief in range(len(final_chief)):\n",
    "    # final_chief produces an empty bracket when it is NA. Hence, I've set a condition to print NA when an empty \n",
    "    #bracket is present for the output\n",
    "    if final_chief[chief] == []:\n",
    "        final_chief[chief] = \"TBA\"\n"
   ]
  },
  {
   "cell_type": "markdown",
   "metadata": {},
   "source": [
    "## 4. Creating XML File"
   ]
  },
  {
   "cell_type": "code",
   "execution_count": 886,
   "metadata": {},
   "outputs": [],
   "source": [
    "# creating file to write on \n",
    "file = open('unitguide.xml','w')\n",
    "# starting index\n",
    "i = 0\n",
    "file.write('<units>\\n')\n",
    "# continue writing while count is less than length of units\n",
    "while i < len(units_final):\n",
    "    unitid='{}{}{}'.format(\"<unit id='\",units_final[i],\"'>\\n\")\n",
    "    file.write(unitid)\n",
    "    title='{}{}{}'.format(\"<title>\",unit_title[i],\"</title>\\n\")\n",
    "    file.write(title)\n",
    "    tem_synopsis = '<synopsis>' + synopsis1[i] + \"</synopsis>\\n\"\n",
    "    # re.sub brackets so that brackets are not shown\n",
    "    synopsis= re.sub(r'\\[|]','',tem_synopsis)\n",
    "    file.write(synopsis) \n",
    "    if final_prereq2[i] == 'NA':\n",
    "        prerequistic = '{}'.format('<pre_requistics> NA </pre_requistics>\\n')\n",
    "        file.write(prerequistic)\n",
    "    else:\n",
    "        file.write('<pre_requistics>\\n')\n",
    "        for k in range(len(final_prereq2[i])):\n",
    "                file.write('<pre_requistic>'+ final_prereq2[i][k] + '</pre_requistic>')\n",
    "        file.write('</pre_requistics>\\n')\n",
    "    if final_prohibition[i] == 'NA':\n",
    "        prohibition = '{}'.format('<prohibisions> NA </prohibisions>\\n')\n",
    "        file.write(prohibition)\n",
    "    else:\n",
    "        file.write('<prohibisions>\\n')\n",
    "        for k in range(len(final_prohibition[i])):\n",
    "            file.write('<prohibision>'+ final_prohibition[i][k] + '</prohibision>')\n",
    "        file.write('</prohibisions>\\n')\n",
    "    if final_requirement[i] == 'NA':\n",
    "        requirement = '{}'.format('<requirements> NA </requirements>\\n')\n",
    "        file.write(requirement)\n",
    "    else:\n",
    "        file.write('<requirements>\\n')\n",
    "        for k in range(len(final_requirement[i])):\n",
    "            file.write('<requirement>'+ final_requirement[i][k] + '</requirement>')\n",
    "        file.write('</requirements>\\n')\n",
    "    file.write('<outcomes>\\n')\n",
    "    for k in range(len(final_output[i])):\n",
    "        file.write('<outcome> '+ final_output[i][k] + '</outcome>')\n",
    "    file.write('</outcomes>\\n')\n",
    "    if final_chief[i] == 'TBA':\n",
    "        chiefexam = '{}'.format('<chief_examiners> TBA </chief_examiners>\\n')\n",
    "        file.write(chiefexam)\n",
    "    else:\n",
    "        file.write('<chief_examiners>\\n')\n",
    "        for k in range(len(final_chief[i])):\n",
    "            file.write('<chief_examiner>'+ final_chief[i][k] + '</chief_examiner>')\n",
    "        file.write('</chief_examiners>\\n')\n",
    "            \n",
    "    i +=1\n",
    "    file.write('</unit>\\n')\n",
    "    \n",
    "file.close()\n"
   ]
  },
  {
   "cell_type": "markdown",
   "metadata": {},
   "source": [
    "## 5. Creating JSON File"
   ]
  },
  {
   "cell_type": "code",
   "execution_count": 887,
   "metadata": {},
   "outputs": [],
   "source": [
    "\n",
    "i = 0\n",
    "sum_all = []\n",
    "while i < len(units_final):\n",
    "    summary = {'@id': units_final[i],\n",
    "                           'title': unit_title[i],\n",
    "                           'synopsis': synopsis1[i],           \n",
    "                           'pre_requistics': 'NA' if final_prereq2[i] == 'NA' else {'pre_requistics': final_prereq2[i]},\n",
    "                           'prohibisions':'NA' if final_prohibition[i] == 'NA' else {'prohibision': final_prohibition[i]},\n",
    "                           'requirements':'NA' if final_requirement[i] == 'NA' else {'requirement': final_requirement[i]},\n",
    "                           'outcomes': 'NA' if final_output[i] == 'NA' else {'outcome': final_output[i]},\n",
    "                           'chief_examiners': 'TBA' if final_chief[i] == 'TBA' else{'chief examiner': final_chief[i]}\n",
    "              }\n",
    "    sum_all.append(summary)\n",
    "    i +=1\n",
    "\n",
    "unit_dict = {\"unit\":sum_all}\n",
    "units_dict={\"units\":unit_dict}\n",
    "\n",
    "with open('unitguide.json','w') as f:\n",
    "    json.dump(units_dict,f,indent = 5)"
   ]
  }
 ],
 "metadata": {
  "kernelspec": {
   "display_name": "Python 3",
   "language": "python",
   "name": "python3"
  },
  "language_info": {
   "codemirror_mode": {
    "name": "ipython",
    "version": 3
   },
   "file_extension": ".py",
   "mimetype": "text/x-python",
   "name": "python",
   "nbconvert_exporter": "python",
   "pygments_lexer": "ipython3",
   "version": "3.7.6"
  }
 },
 "nbformat": 4,
 "nbformat_minor": 2
}
